{
 "cells": [
  {
   "cell_type": "code",
   "execution_count": 7,
   "id": "cc945579",
   "metadata": {},
   "outputs": [
    {
     "name": "stdout",
     "output_type": "stream",
     "text": [
      "Enter a number: 111\n",
      "This number is odd\n"
     ]
    }
   ],
   "source": [
    "#Even or odd\n",
    "def check(n):\n",
    "    if n % 2 == 0:\n",
    "        return True\n",
    "    else:\n",
    "        return False\n",
    "\n",
    "num = int(input(\"Enter a number: \"))\n",
    "if check(num):\n",
    "    print(\"This number is even\")\n",
    "else:\n",
    "    print(\"This number is odd\")"
   ]
  },
  {
   "cell_type": "code",
   "execution_count": null,
   "id": "8673f010",
   "metadata": {},
   "outputs": [],
   "source": []
  },
  {
   "cell_type": "code",
   "execution_count": 14,
   "id": "a4b9c9cd",
   "metadata": {},
   "outputs": [
    {
     "name": "stdout",
     "output_type": "stream",
     "text": [
      "Enter value of num1 \n",
      " 12\n",
      "Enter value of num2 \n",
      "10\n",
      "the sum of 12 and 10 is : 22\n"
     ]
    }
   ],
   "source": [
    "#sum of two integers that takes from the users\n",
    "def total(x,y):\n",
    "    return x+y\n",
    "num1=int(input(\"Enter value of num1 \\n \"))\n",
    "num2=int(input(\"Enter value of num2 \\n\"))\n",
    "print(f'the sum of {num1} and {num2} is : {total(num1,num2)}')\n"
   ]
  },
  {
   "cell_type": "code",
   "execution_count": 24,
   "id": "0ee4a150",
   "metadata": {},
   "outputs": [
    {
     "name": "stdout",
     "output_type": "stream",
     "text": [
      "Enter the number of terms: 4\n",
      "Enter a number: 1\n",
      "Enter a number: 2\n",
      "Enter a number: 3\n",
      "Enter a number: 4\n"
     ]
    },
    {
     "ename": "TypeError",
     "evalue": "sum() missing 1 required positional argument: 'y'",
     "output_type": "error",
     "traceback": [
      "\u001b[0;31m---------------------------------------------------------------------------\u001b[0m",
      "\u001b[0;31mTypeError\u001b[0m                                 Traceback (most recent call last)",
      "Cell \u001b[0;32mIn[24], line 10\u001b[0m\n\u001b[1;32m      7\u001b[0m     \u001b[38;5;28;01mreturn\u001b[39;00m \u001b[38;5;28msum\u001b[39m(list1)\n\u001b[1;32m      9\u001b[0m no \u001b[38;5;241m=\u001b[39m \u001b[38;5;28mint\u001b[39m(\u001b[38;5;28minput\u001b[39m(\u001b[38;5;124m\"\u001b[39m\u001b[38;5;124mEnter the number of terms: \u001b[39m\u001b[38;5;124m\"\u001b[39m))\n\u001b[0;32m---> 10\u001b[0m result \u001b[38;5;241m=\u001b[39m \u001b[43mtotal\u001b[49m\u001b[43m(\u001b[49m\u001b[43mno\u001b[49m\u001b[43m)\u001b[49m\n\u001b[1;32m     11\u001b[0m \u001b[38;5;28mprint\u001b[39m(\u001b[38;5;124m\"\u001b[39m\u001b[38;5;124mThe sum is:\u001b[39m\u001b[38;5;124m\"\u001b[39m, result)\n",
      "Cell \u001b[0;32mIn[24], line 7\u001b[0m, in \u001b[0;36mtotal\u001b[0;34m(n)\u001b[0m\n\u001b[1;32m      4\u001b[0m     num \u001b[38;5;241m=\u001b[39m \u001b[38;5;28mint\u001b[39m(\u001b[38;5;28minput\u001b[39m(\u001b[38;5;124m\"\u001b[39m\u001b[38;5;124mEnter a number: \u001b[39m\u001b[38;5;124m\"\u001b[39m))\n\u001b[1;32m      5\u001b[0m     list1\u001b[38;5;241m.\u001b[39mappend(num)\n\u001b[0;32m----> 7\u001b[0m \u001b[38;5;28;01mreturn\u001b[39;00m \u001b[38;5;28;43msum\u001b[39;49m\u001b[43m(\u001b[49m\u001b[43mlist1\u001b[49m\u001b[43m)\u001b[49m\n",
      "\u001b[0;31mTypeError\u001b[0m: sum() missing 1 required positional argument: 'y'"
     ]
    }
   ],
   "source": [
    "\n",
    "0+44444444444444444444444444444444444444444444444444444444444444444444444444444444444444444444444444444444444444444444444444444444444444444444444444444444444444444415++++"
   ]
  },
  {
   "cell_type": "code",
   "execution_count": 16,
   "id": "93b9d29b",
   "metadata": {},
   "outputs": [
    {
     "name": "stdout",
     "output_type": "stream",
     "text": [
      "Enter a number21\n",
      "not a prime number\n"
     ]
    }
   ],
   "source": [
    "#prime or not a prime\n",
    "def isprime(n):\n",
    "    if n <2:\n",
    "        return False\n",
    "    elif n >1:\n",
    "        for i in range(2,num):\n",
    "            if (num%i==0):\n",
    "                return False\n",
    "    return True\n",
    "num = int(input(\"Enter a number\"))\n",
    "if isprime(num):\n",
    "    print(\"This is a prime number\")\n",
    "else:\n",
    "    print(\"not a prime number\")\n",
    "\n",
    "    "
   ]
  },
  {
   "cell_type": "code",
   "execution_count": 12,
   "id": "9283a226",
   "metadata": {},
   "outputs": [
    {
     "ename": "IndentationError",
     "evalue": "unindent does not match any outer indentation level (<tokenize>, line 20)",
     "output_type": "error",
     "traceback": [
      "\u001b[0;36m  File \u001b[0;32m<tokenize>:20\u001b[0;36m\u001b[0m\n\u001b[0;31m    else:\u001b[0m\n\u001b[0m    ^\u001b[0m\n\u001b[0;31mIndentationError\u001b[0m\u001b[0;31m:\u001b[0m unindent does not match any outer indentation level\n"
     ]
    }
   ],
   "source": [
    "class PrimeChecker:\n",
    "    def __init__(self, number):\n",
    "        self.number = number\n",
    "\n",
    "    def is_prime(self):\n",
    "        if self.number <= 1:\n",
    "            return False\n",
    "        for i in range(2, int(self.number)):\n",
    "            if self.number % i == 0:\n",
    "                return False\n",
    "        return True\n",
    "\n",
    "\n",
    "# Testing the prime number checker\n",
    "num = int(input(\"Enter a number: \"))\n",
    "\n",
    "checker = PrimeChecker(num)\n",
    "if checker.is_prime():\n",
    "    print(num, \"is a prime number.\")\n",
    "  else:\n",
    "    print(num, \"is not a prime number.\")\n"
   ]
  },
  {
   "cell_type": "code",
   "execution_count": 3,
   "id": "5c3499e2",
   "metadata": {},
   "outputs": [
    {
     "name": "stdout",
     "output_type": "stream",
     "text": [
      "Enter a string: saaas\n",
      "Reversed string: saaas\n",
      "This is palindrome string\n"
     ]
    }
   ],
   "source": [
    "class StringReverser:\n",
    "    def __init__(self, string):\n",
    "        self.string = string\n",
    "\n",
    "    def reverse(self):\n",
    "        reversed_string = \"\"\n",
    "        for i in range(len(self.string) - 1, -1, -1):\n",
    "            reversed_string += self.string[i]\n",
    "        return reversed_string\n",
    "\n",
    "\n",
    "# Testing the string reversal\n",
    "text = input(\"Enter a string: \")\n",
    "\n",
    "reverser = StringReverser(text)\n",
    "reversed_string = reverser.reverse()\n",
    "\n",
    "print(\"Reversed string:\", reversed_string)\n",
    "if text == reversed_string:\n",
    "    print(\"This is palindrome string\")\n",
    "else:\n",
    "    print(\"This is not a palindrome string\")\n"
   ]
  },
  {
   "cell_type": "code",
   "execution_count": 5,
   "id": "ac401900",
   "metadata": {},
   "outputs": [
    {
     "name": "stdout",
     "output_type": "stream",
     "text": [
      "Enter an integer: 1221\n",
      "1221\n",
      "This is palindrome number\n"
     ]
    }
   ],
   "source": [
    "#reverse and palindrome number using class \n",
    "class Palindrome:\n",
    "    def __init__(self,number):\n",
    "        self.number=number\n",
    "    def reverse(self):\n",
    "        temp = self.number\n",
    "        reverseno=0\n",
    "        while temp>0:\n",
    "            digit=temp%10\n",
    "            reverseno=(reverseno*10)+digit\n",
    "            temp//=10\n",
    "        return reverseno\n",
    "num =int(input(\"Enter an integer\"))\n",
    "checker=Palindrome(num)\n",
    "reverseno =checker.reverse()\n",
    "print(reverseno)"
   ]
  },
  {
   "cell_type": "code",
   "execution_count": 16,
   "id": "365ab58e",
   "metadata": {},
   "outputs": [
    {
     "name": "stdout",
     "output_type": "stream",
     "text": [
      "Enter an integer \n",
      "153\n",
      "This is a armstrong number \n",
      " \n"
     ]
    }
   ],
   "source": [
    "#armstrong number \n",
    "num =int(input(\"Enter an integer \\n\"))\n",
    "length=len(str(num))\n",
    "temp=num\n",
    "total=0\n",
    "while temp>0:\n",
    "    digit=temp%10\n",
    "    total+=digit**length\n",
    "    temp//=10\n",
    "if num == total:\n",
    "    print(\"This is a armstrong number \\n \")\n",
    "else:\n",
    "    print(\"This is not a armstrong number\")"
   ]
  },
  {
   "cell_type": "code",
   "execution_count": 2,
   "id": "32338045",
   "metadata": {},
   "outputs": [
    {
     "name": "stdout",
     "output_type": "stream",
     "text": [
      "Enter an integer 125\n",
      "134\n",
      "This is not a armstrong number\n"
     ]
    }
   ],
   "source": [
    "#armstrong number using class \n",
    "class armstrong:\n",
    "    def __init__(self,number):\n",
    "        self.number=number\n",
    "    \n",
    "    def armnumber(self):\n",
    "        temp = self.number\n",
    "        total=0\n",
    "        length=len(str(self.number))\n",
    "        while temp>0:\n",
    "            digit=temp%10\n",
    "            total +=digit ** length\n",
    "            temp//=10\n",
    "        return total\n",
    "num = int(input(\"Enter an integer \"))\n",
    "checker = armstrong(num)\n",
    "total =checker.armnumber()\n",
    "print(total)\n",
    "if num == total:\n",
    "    print(\"This is armstrong number \")\n",
    "else:\n",
    "    print(\"This is not a armstrong number\")\n",
    "        "
   ]
  },
  {
   "cell_type": "code",
   "execution_count": 3,
   "id": "6e452377",
   "metadata": {},
   "outputs": [
    {
     "name": "stdout",
     "output_type": "stream",
     "text": [
      "Enter number where you want to show fibonacci series5\n"
     ]
    },
    {
     "ename": "NameError",
     "evalue": "name 'result' is not defined",
     "output_type": "error",
     "traceback": [
      "\u001b[0;31m---------------------------------------------------------------------------\u001b[0m",
      "\u001b[0;31mNameError\u001b[0m                                 Traceback (most recent call last)",
      "Cell \u001b[0;32mIn[3], line 9\u001b[0m\n\u001b[1;32m      7\u001b[0m \u001b[38;5;28;01mfor\u001b[39;00m i \u001b[38;5;129;01min\u001b[39;00m \u001b[38;5;28mrange\u001b[39m(\u001b[38;5;241m1\u001b[39m,num):\n\u001b[1;32m      8\u001b[0m     a\u001b[38;5;241m=\u001b[39mb \n\u001b[0;32m----> 9\u001b[0m     b\u001b[38;5;241m=\u001b[39m\u001b[43mresult\u001b[49m\n\u001b[1;32m     10\u001b[0m     result\u001b[38;5;241m=\u001b[39ma\u001b[38;5;241m+\u001b[39mb\n\u001b[1;32m     11\u001b[0m \u001b[38;5;28mprint\u001b[39m(result)\n",
      "\u001b[0;31mNameError\u001b[0m: name 'result' is not defined"
     ]
    }
   ],
   "source": [
    "def fibonacci(n):\n",
    "    series = []\n",
    "    a, b = 0, 1\n",
    "    for _ in range(n):\n",
    "        series.append(a)\n",
    "        a, b = b, a + b\n",
    "\n",
    "    return series\n",
    "\n",
    "# Example usage\n",
    "num_terms = int(input(\"Enter the number of terms in the Fibonacci series: \"))\n",
    "\n",
    "fib_series = fibonacci(num_terms)\n",
    "\n",
    "print(\"Fibonacci series:\")\n",
    "for term in fib_series:\n",
    "    print(term, end=\" \")\n"
   ]
  },
  {
   "cell_type": "code",
   "execution_count": 10,
   "id": "8af71c40",
   "metadata": {},
   "outputs": [
    {
     "name": "stdout",
     "output_type": "stream",
     "text": [
      "Enter number of terms: 5\n",
      "Fibonacci series is: [0, 1, 1, 2, 3]\n"
     ]
    }
   ],
   "source": [
    "class Fibonacci:\n",
    "    def __init__(self, term):\n",
    "        self.term = term\n",
    "\n",
    "    def generate_series(self):\n",
    "        first = 0\n",
    "        second = 1\n",
    "        list1 = []\n",
    "        result = 0\n",
    "\n",
    "        while result < self.term:\n",
    "            list1.append(first)\n",
    "            total = first + second\n",
    "            first = second\n",
    "            second = total\n",
    "            result += 1\n",
    "\n",
    "        return list1\n",
    "\n",
    "num = int(input(\"Enter number of terms: \"))\n",
    "checker = Fibonacci(num)\n",
    "fibonacci_series = checker.generate_series()\n",
    "print(\"Fibonacci series is:\", fibonacci_series)\n"
   ]
  },
  {
   "cell_type": "code",
   "execution_count": 37,
   "id": "c705cb06",
   "metadata": {},
   "outputs": [
    {
     "name": "stdout",
     "output_type": "stream",
     "text": [
      "Enter a number: 1\n",
      "Factorial: 1\n"
     ]
    }
   ],
   "source": [
    "#factorial number\n",
    "def facto(n):\n",
    "    if n < 0:\n",
    "        print(\"Please enter a positive number.\")\n",
    "        return None\n",
    "    elif n == 0 or n == 1:\n",
    "        return 1\n",
    "    else:\n",
    "        return n * facto(n - 1)\n",
    "\n",
    "num = int(input(\"Enter a number: \"))\n",
    "factorial = facto(num)\n",
    "\n",
    "if factorial is not None:\n",
    "    print(\"Factorial:\", factorial)\n"
   ]
  },
  {
   "cell_type": "code",
   "execution_count": 13,
   "id": "10f2b29c",
   "metadata": {},
   "outputs": [
    {
     "name": "stdout",
     "output_type": "stream",
     "text": [
      "Enter a number where to you want start print prime number2\n",
      "Enter a number at where to you want start print prime number50\n"
     ]
    },
    {
     "ename": "TypeError",
     "evalue": "'builtin_function_or_method' object is not subscriptable",
     "output_type": "error",
     "traceback": [
      "\u001b[0;31m---------------------------------------------------------------------------\u001b[0m",
      "\u001b[0;31mTypeError\u001b[0m                                 Traceback (most recent call last)",
      "Cell \u001b[0;32mIn[13], line 16\u001b[0m\n\u001b[1;32m     13\u001b[0m             is_prime\u001b[38;5;241m=\u001b[39m\u001b[38;5;28;01mFalse\u001b[39;00m\n\u001b[1;32m     15\u001b[0m \u001b[38;5;28;01mif\u001b[39;00m is_prime:\n\u001b[0;32m---> 16\u001b[0m     \u001b[38;5;28mprint\u001b[39m(\u001b[38;5;124mf\u001b[39m\u001b[38;5;124m\"\u001b[39m\u001b[38;5;124mPrime number \u001b[39m\u001b[38;5;132;01m{\u001b[39;00m\u001b[38;5;28;43mlen\u001b[39;49m\u001b[43m[\u001b[49m\u001b[43mnum\u001b[49m\u001b[43m]\u001b[49m\u001b[38;5;132;01m}\u001b[39;00m\u001b[38;5;124m ,\u001b[39m\u001b[38;5;132;01m{\u001b[39;00mnum\u001b[38;5;132;01m}\u001b[39;00m\u001b[38;5;124m\"\u001b[39m)\n",
      "\u001b[0;31mTypeError\u001b[0m: 'builtin_function_or_method' object is not subscriptable"
     ]
    }
   ],
   "source": [
    "start=int(input(\"Enter a number where to you want start print prime number\"))\n",
    "end=int(input(\"Enter a number at where to you want start print prime number\"))\n",
    "list1=[]\n",
    "for num in range(start,end+1):\n",
    "    is_prime= True\n",
    "    list1.append(num)\n",
    "\n",
    "    if num<2:\n",
    "        is_prime =False\n",
    "    else:\n",
    "        for i in range(2,num):\n",
    "            if num%i==0:\n",
    "                is_prime=False\n",
    "    \n",
    "    if is_prime:\n",
    "        print(f\"Prime number { index number on prime number} ,{num}\")\n",
    "    \n"
   ]
  },
  {
   "cell_type": "code",
   "execution_count": 15,
   "id": "f565084a",
   "metadata": {},
   "outputs": [
    {
     "name": "stdout",
     "output_type": "stream",
     "text": [
      "Enter the starting number: 2\n",
      "Enter the ending number: 50\n",
      "Prime numbers in the given range:\n",
      "Prime number 1: 2\n",
      "Prime number 2: 3\n",
      "Prime number 3: 5\n",
      "Prime number 4: 7\n",
      "Prime number 5: 11\n",
      "Prime number 6: 13\n",
      "Prime number 7: 17\n",
      "Prime number 8: 19\n",
      "Prime number 9: 23\n",
      "Prime number 10: 29\n",
      "Prime number 11: 31\n",
      "Prime number 12: 37\n",
      "Prime number 13: 41\n",
      "Prime number 14: 43\n",
      "Prime number 15: 47\n",
      "[2, 3, 5, 7, 11, 13, 17, 19, 23, 29, 31, 37, 41, 43, 47]\n"
     ]
    }
   ],
   "source": [
    "start = int(input(\"Enter the starting number: \"))\n",
    "end = int(input(\"Enter the ending number: \"))\n",
    "\n",
    "prime_numbers = []\n",
    "for num in range(start, end+1):\n",
    "    is_prime = True\n",
    "\n",
    "    if num < 2:\n",
    "        is_prime = False\n",
    "    else:\n",
    "        for i in range(2, num):\n",
    "            if num % i == 0:\n",
    "                is_prime = False\n",
    "\n",
    "    if is_prime:\n",
    "        prime_numbers.append(num)\n",
    "\n",
    "print(\"Prime numbers in the given range:\")\n",
    "for index, prime in enumerate(prime_numbers, 1):\n",
    "    print(f\"Prime number {index}: {prime}\")\n",
    "print(prime_numbers)\n"
   ]
  },
  {
   "cell_type": "code",
   "execution_count": 1,
   "id": "0bcc0d2d",
   "metadata": {},
   "outputs": [
    {
     "name": "stdout",
     "output_type": "stream",
     "text": [
      "Enter an number2\n",
      "2 X 1 = 2\n",
      "2 X 2 = 4\n",
      "2 X 3 = 6\n",
      "2 X 4 = 8\n",
      "2 X 5 = 10\n",
      "2 X 6 = 12\n",
      "2 X 7 = 14\n",
      "2 X 8 = 16\n",
      "2 X 9 = 18\n",
      "2 X 10 = 20\n"
     ]
    }
   ],
   "source": [
    "# table of any number \n",
    "# user input number\n",
    "# print table that number 2 x 1=2 2x2=4 2x3=6\n",
    "\n",
    "n=int(input(\"Enter an number\")) #input number from user ,example =4\n",
    "for i in range(1,11): #logic for 4's table ,and we will give range from 1 to 10\n",
    "    print(n,\"X\",i,\"=\",n*i)  #number * range ,4*1/2/3/4/5/6/7/8/9/10\n"
   ]
  },
  {
   "cell_type": "code",
   "execution_count": 5,
   "id": "aa331560",
   "metadata": {},
   "outputs": [
    {
     "ename": "ValueError",
     "evalue": "invalid literal for int() with base 10: ''",
     "output_type": "error",
     "traceback": [
      "\u001b[0;31m---------------------------------------------------------------------------\u001b[0m",
      "\u001b[0;31mValueError\u001b[0m                                Traceback (most recent call last)",
      "Cell \u001b[0;32mIn[5], line 1\u001b[0m\n\u001b[0;32m----> 1\u001b[0m num \u001b[39m=\u001b[39m\u001b[39mint\u001b[39;49m(\u001b[39minput\u001b[39;49m(\u001b[39m\"\u001b[39;49m\u001b[39mEnter an integer\u001b[39;49m\u001b[39m\"\u001b[39;49m))\n\u001b[1;32m      2\u001b[0m \u001b[39mprint\u001b[39m(num)\n",
      "\u001b[0;31mValueError\u001b[0m: invalid literal for int() with base 10: ''"
     ]
    }
   ],
   "source": [
    "num =int(input(\"Enter an integer\"))\n",
    "print(num)"
   ]
  }
 ],
 "metadata": {
  "kernelspec": {
   "display_name": "Python 3 (ipykernel)",
   "language": "python",
   "name": "python3"
  },
  "language_info": {
   "codemirror_mode": {
    "name": "ipython",
    "version": 3
   },
   "file_extension": ".py",
   "mimetype": "text/x-python",
   "name": "python",
   "nbconvert_exporter": "python",
   "pygments_lexer": "ipython3",
   "version": "3.10.12"
  }
 },
 "nbformat": 4,
 "nbformat_minor": 5
}
