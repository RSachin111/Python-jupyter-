{
 "cells": [
  {
   "cell_type": "code",
   "execution_count": null,
   "id": "e76b60bf",
   "metadata": {},
   "outputs": [
    {
     "name": "stdout",
     "output_type": "stream",
     "text": [
      "7\n",
      "{'sachin3', 'sachin', 'sachin2'}\n"
     ]
    }
   ],
   "source": [
    "# list operations\n",
    "names = [\"sachin\",\"sachin2\",\"sachin3\",\"sachin\",\"sachin3\"]\n",
    "print(len(names[1]))\n",
    "# find a unique name\n",
    "names =set(names)\n",
    "print(names)"
   ]
  },
  {
   "cell_type": "code",
   "execution_count": 17,
   "id": "208221d3",
   "metadata": {},
   "outputs": [
    {
     "name": "stdout",
     "output_type": "stream",
     "text": [
      "['a', 'A', 'b']\n"
     ]
    }
   ],
   "source": [
    "# unique names using list \n",
    "names = [\"a\",\"a\",\"A\",\"a\",\"b\"]\n",
    "unique_names = []\n",
    "\n",
    "for name in names:\n",
    "    if name not in unique_names:\n",
    "        unique_names.append(name)\n",
    "\n",
    "print(unique_names)\n"
   ]
  },
  {
   "cell_type": "code",
   "execution_count": 18,
   "id": "847c68d2",
   "metadata": {},
   "outputs": [
    {
     "name": "stdout",
     "output_type": "stream",
     "text": [
      "['A', 'b']\n"
     ]
    }
   ],
   "source": [
    "# unique name also not repeating in list\n",
    "names = [\"a\",\"a\",\"A\",\"a\",\"b\"]\n",
    "unique_names = []\n",
    "for name in names:\n",
    "    if names.count(name) == 1 and name not in unique_names:\n",
    "        unique_names.append(name)\n",
    "print(unique_names)"
   ]
  },
  {
   "cell_type": "code",
   "execution_count": null,
   "id": "03e87fec",
   "metadata": {},
   "outputs": [],
   "source": [
    "print(\"This is sachin rathore\")"
   ]
  }
 ],
 "metadata": {
  "kernelspec": {
   "display_name": "Python 3 (ipykernel)",
   "language": "python",
   "name": "python3"
  },
  "language_info": {
   "codemirror_mode": {
    "name": "ipython",
    "version": 3
   },
   "file_extension": ".py",
   "mimetype": "text/x-python",
   "name": "python",
   "nbconvert_exporter": "python",
   "pygments_lexer": "ipython3",
   "version": "3.10.6"
  }
 },
 "nbformat": 4,
 "nbformat_minor": 5
}
