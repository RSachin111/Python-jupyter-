{
 "cells": [
  {
   "cell_type": "code",
   "execution_count": 58,
   "id": "0b1ec036",
   "metadata": {},
   "outputs": [
    {
     "name": "stdout",
     "output_type": "stream",
     "text": [
      "Sachin\n",
      "<class 'str'>\n",
      "100\n",
      "<class 'int'>\n",
      "100.0\n",
      "<class 'float'>\n",
      "<class 'complex'>\n"
     ]
    }
   ],
   "source": [
    "#numeric data type \n",
    "a =\"Sachin\" #string \n",
    "print(a)\n",
    "print(type(a))\n",
    "a =100 \n",
    "print(a)\n",
    "print(type(a))\n",
    "a =100.00 \n",
    "print(a)\n",
    "print(type(a))\n",
    "a=1 + 3j #in python only j count in  an imaginary part \n",
    "print(type(a))\n",
    "\n"
   ]
  },
  {
   "cell_type": "code",
   "execution_count": 5,
   "id": "d12f40c8",
   "metadata": {},
   "outputs": [
    {
     "name": "stdout",
     "output_type": "stream",
     "text": [
      "True\n",
      "<class 'bool'>\n"
     ]
    }
   ],
   "source": [
    "#boolean data type \n",
    "a =True\n",
    "print(a)\n",
    "print(type(a))\n"
   ]
  },
  {
   "cell_type": "code",
   "execution_count": 6,
   "id": "e96b46a4",
   "metadata": {},
   "outputs": [
    {
     "name": "stdout",
     "output_type": "stream",
     "text": [
      "[1, 'Sachin', 3, 4, 5]\n",
      "<class 'list'>\n",
      "(1, 'Sachin', 3, 4, 5)\n",
      "<class 'tuple'>\n"
     ]
    }
   ],
   "source": [
    "#Sequence data types \n",
    "list1=[1,\"Sachin\",3,4,5]\n",
    "print(list1)\n",
    "print(type(list1))\n",
    "tuple1=(1,\"Sachin\",3,4,5)\n",
    "print(tuple1)\n",
    "print(type(tuple1))"
   ]
  },
  {
   "cell_type": "code",
   "execution_count": 27,
   "id": "31626d8a",
   "metadata": {},
   "outputs": [
    {
     "name": "stdout",
     "output_type": "stream",
     "text": [
      "{'name': 'Sachin', 'surname': 'Rathore', 'number': 100}\n",
      "Sachin\n",
      "100\n",
      "<class 'dict'>\n",
      "<class 'int'>\n",
      "dict_values(['Sachin', 'Rathore', 100])\n",
      "dict_keys(['name', 'surname', 'number'])\n",
      "Key for value \"Rathore\": surname\n"
     ]
    }
   ],
   "source": [
    "#map data type \n",
    "dictionary={\n",
    "    \"name\":\"Sachin\",\n",
    "    \"surname\":\"Rathore\",\n",
    "    \"number\":100\n",
    "}\n",
    "print(dictionary)\n",
    "print(dictionary[\"name\"])\n",
    "# print(dictonary[\"Sachin\"])\n",
    "print(dictionary[\"number\"])\n",
    "print(type(dictionary))\n",
    "print(type(dictionary[\"number\"]))\n",
    "print(dictionary.values())\n",
    "print(dictionary.keys())\n",
    "value = \"Rathore\"\n",
    "key = None\n",
    "for k in dictionary.keys():\n",
    "    if dictionary[k] == value:\n",
    "        key = k\n",
    "        break\n",
    "\n",
    "if key is not None:\n",
    "    print(\"Key for value \\\"\" + value + \"\\\": \" + key)"
   ]
  },
  {
   "cell_type": "code",
   "execution_count": 52,
   "id": "1eeabeee",
   "metadata": {},
   "outputs": [
    {
     "name": "stdout",
     "output_type": "stream",
     "text": [
      "Sachin Rathore\n"
     ]
    }
   ],
   "source": [
    "name=\"Sachin\"\n",
    "surname=\"Rathore\"\n",
    "print(name + \" \" +surname)"
   ]
  },
  {
   "cell_type": "code",
   "execution_count": 59,
   "id": "32cf6db9",
   "metadata": {},
   "outputs": [
    {
     "name": "stdout",
     "output_type": "stream",
     "text": [
      "{1, 2, 3, 4}\n",
      "<class 'set'>\n"
     ]
    }
   ],
   "source": [
    "# Set data type \n",
    "#Removed Duplicate data\n",
    "set1 = {1,2,3,4,4,4}\n",
    "print(set1)\n",
    "print(type(set1))"
   ]
  },
  {
   "cell_type": "code",
   "execution_count": 62,
   "id": "75027c2c",
   "metadata": {},
   "outputs": [
    {
     "name": "stdout",
     "output_type": "stream",
     "text": [
      "else condition is right \n"
     ]
    }
   ],
   "source": [
    "#conditional statements\n",
    "\n",
    "name=\"sachin\"\n",
    "surname=\"rathore\"\n",
    "if name==\"Sachin\":\n",
    "    print(\"if condition is right\")\n",
    "elif name==\"Rsachin\":\n",
    "    print(\"elif condition is right \")\n",
    "else:\n",
    "    print(\"else condition is right \")"
   ]
  },
  {
   "cell_type": "code",
   "execution_count": 76,
   "id": "3c716545",
   "metadata": {},
   "outputs": [
    {
     "name": "stdout",
     "output_type": "stream",
     "text": [
      "[1, 2, 3, 4, 5]\n",
      "[2, 4]\n"
     ]
    }
   ],
   "source": [
    "# Loops\n",
    "# for  Iterate in squence \n",
    "list1=[1,2,3,4,5,5]\n",
    "list2=[]\n",
    "for i in list1:\n",
    "    if i in list2:\n",
    "        continue\n",
    "    list2.append(i)\n",
    "   \n",
    "print(list2)\n",
    "list3=[]\n",
    "for i in range(2,6,2): # (start,end-1,skip)\n",
    "    list3.append(i)\n",
    "print(list3)"
   ]
  },
  {
   "cell_type": "code",
   "execution_count": 85,
   "id": "4c0c31e3",
   "metadata": {},
   "outputs": [],
   "source": [
    "#While Loop\n",
    "#exicute till While condition not gone wrong \n",
    "list1=[1,2,3,4,5,5,6,67,77]\n",
    "i = 7\n",
    "while list1[i]<len(list1):\n",
    "    print(i)\n"
   ]
  },
  {
   "cell_type": "code",
   "execution_count": 2,
   "id": "f6749c1d",
   "metadata": {},
   "outputs": [
    {
     "name": "stdout",
     "output_type": "stream",
     "text": [
      "Enter a number from 0 to 9 \n",
      "90\n",
      "invaild synax\n",
      "Enter a number from 0 to 9 \n",
      "90\n",
      "invaild synax\n",
      "Enter a number from 0 to 9 \n",
      "99\n",
      "invaild synax\n",
      "Enter a number from 0 to 9 \n",
      "8\n",
      "Congratulation !! you are correct \n"
     ]
    }
   ],
   "source": [
    "# Enter a number that is not correct \n",
    "while True:\n",
    "    num=int(input(\"Enter a number from 0 to 9 \\n\"))\n",
    "    if num>=0 and num<=9:\n",
    "        print(\"Congratulation !! you are correct \")\n",
    "        break\n",
    "    else:\n",
    "        print(\"invaild synax\")"
   ]
  },
  {
   "cell_type": "code",
   "execution_count": 4,
   "id": "37a623b3",
   "metadata": {},
   "outputs": [
    {
     "name": "stdout",
     "output_type": "stream",
     "text": [
      "this is first line\n",
      "this is second line\n",
      "this is third line\n",
      "this is fourth line this is also fourth line\n",
      "\n",
      "this is 6th line\n"
     ]
    }
   ],
   "source": [
    "file = open(\"file.txt\", \"r\")\n",
    "while True:\n",
    "    line = file.readline()\n",
    "    if not line:\n",
    "        break\n",
    "    print(line.strip())\n",
    "file.close()"
   ]
  },
  {
   "cell_type": "code",
   "execution_count": 10,
   "id": "16c8385c",
   "metadata": {},
   "outputs": [
    {
     "name": "stdout",
     "output_type": "stream",
     "text": [
      "Hello  sachin your surname is  Rathore\n"
     ]
    }
   ],
   "source": [
    "#function \n",
    "def name(Name,surname):\n",
    "    print(\"Hello \",Name ,\"your surname is \",surname)\n",
    "name(\"sachin\",\"Rathore\")"
   ]
  },
  {
   "cell_type": "code",
   "execution_count": 17,
   "id": "dbb43cb7",
   "metadata": {},
   "outputs": [
    {
     "name": "stdout",
     "output_type": "stream",
     "text": [
      "60\n",
      "40\n"
     ]
    }
   ],
   "source": [
    "def sum(a,b,c):\n",
    "    d=a+b+c\n",
    "    return d\n",
    "sum(10,20,30) #it will give output\n",
    "print(sum(10,20,30))# it will give none bxz sum() inside the print() and sum() itself doesnot any return any values\n",
    "sum_in_other_value=sum(10,20,10)\n",
    "print(sum_in_other_value)"
   ]
  },
  {
   "cell_type": "code",
   "execution_count": 17,
   "id": "1e9609b9",
   "metadata": {},
   "outputs": [
    {
     "name": "stdout",
     "output_type": "stream",
     "text": [
      "Alice\n"
     ]
    }
   ],
   "source": [
    "class Person:\n",
    "    def __init__(self, name, age):\n",
    "        self.name = name\n",
    "        self.age = age\n",
    "person1 = Person(\"Alice\", 25)\n",
    "print(person1.name)"
   ]
  },
  {
   "cell_type": "code",
   "execution_count": 18,
   "id": "88a7c83c",
   "metadata": {},
   "outputs": [
    {
     "ename": "TypeError",
     "evalue": "Person() takes no arguments",
     "output_type": "error",
     "traceback": [
      "\u001b[0;31m---------------------------------------------------------------------------\u001b[0m",
      "\u001b[0;31mTypeError\u001b[0m                                 Traceback (most recent call last)",
      "Cell \u001b[0;32mIn[18], line 5\u001b[0m\n\u001b[1;32m      3\u001b[0m         \u001b[38;5;28mself\u001b[39m\u001b[38;5;241m.\u001b[39mname \u001b[38;5;241m=\u001b[39m name\n\u001b[1;32m      4\u001b[0m         \u001b[38;5;28mself\u001b[39m\u001b[38;5;241m.\u001b[39mage \u001b[38;5;241m=\u001b[39m age\n\u001b[0;32m----> 5\u001b[0m person1 \u001b[38;5;241m=\u001b[39m \u001b[43mPerson\u001b[49m\u001b[43m(\u001b[49m\u001b[38;5;124;43m\"\u001b[39;49m\u001b[38;5;124;43mAlice\u001b[39;49m\u001b[38;5;124;43m\"\u001b[39;49m\u001b[43m,\u001b[49m\u001b[43m \u001b[49m\u001b[38;5;241;43m25\u001b[39;49m\u001b[43m)\u001b[49m\n\u001b[1;32m      6\u001b[0m \u001b[38;5;28mprint\u001b[39m(person1\u001b[38;5;241m.\u001b[39mname)\n",
      "\u001b[0;31mTypeError\u001b[0m: Person() takes no arguments"
     ]
    }
   ],
   "source": [
    "class Person:\n",
    "    def __str__(self, name, age):\n",
    "        self.name = name\n",
    "        self.age = age\n",
    "person1 = Person(\"Alice\", 25)\n",
    "print(person1.name)"
   ]
  },
  {
   "cell_type": "code",
   "execution_count": 21,
   "id": "928ff236",
   "metadata": {},
   "outputs": [],
   "source": [
    "name=\"sachin\"\n",
    "def __str__(self):\n",
    "    return self.name"
   ]
  },
  {
   "cell_type": "code",
   "execution_count": 25,
   "id": "a9080706",
   "metadata": {},
   "outputs": [
    {
     "ename": "TypeError",
     "evalue": "result() takes no arguments",
     "output_type": "error",
     "traceback": [
      "\u001b[0;31m---------------------------------------------------------------------------\u001b[0m",
      "\u001b[0;31mTypeError\u001b[0m                                 Traceback (most recent call last)",
      "Cell \u001b[0;32mIn[25], line 4\u001b[0m\n\u001b[1;32m      2\u001b[0m     \u001b[38;5;28;01mdef\u001b[39;00m \u001b[38;5;21mresult\u001b[39m(\u001b[38;5;28mself\u001b[39m,marks,grade):\n\u001b[1;32m      3\u001b[0m         \u001b[38;5;28;01mpass\u001b[39;00m\n\u001b[0;32m----> 4\u001b[0m obj\u001b[38;5;241m=\u001b[39m\u001b[43mresult\u001b[49m\u001b[43m(\u001b[49m\u001b[38;5;241;43m100\u001b[39;49m\u001b[43m,\u001b[49m\u001b[38;5;124;43m\"\u001b[39;49m\u001b[38;5;124;43mA\u001b[39;49m\u001b[38;5;124;43m\"\u001b[39;49m\u001b[43m)\u001b[49m\n\u001b[1;32m      5\u001b[0m \u001b[38;5;28mprint\u001b[39m(obj\u001b[38;5;241m.\u001b[39mmarks)\n\u001b[1;32m      6\u001b[0m \u001b[38;5;28mprint\u001b[39m(obj\u001b[38;5;241m.\u001b[39mgrade)    \n",
      "\u001b[0;31mTypeError\u001b[0m: result() takes no arguments"
     ]
    }
   ],
   "source": [
    "class result:\n",
    "    def result(marks,grade):\n",
    "        pass\n",
    "obj=result(100,\"A\")\n",
    "print(obj.marks)\n",
    "print(obj.grade)    "
   ]
  },
  {
   "cell_type": "code",
   "execution_count": 2,
   "id": "386d38a0",
   "metadata": {},
   "outputs": [
    {
     "name": "stdout",
     "output_type": "stream",
     "text": [
      "Buddy\n",
      "3\n",
      "Woof!\n",
      "My name is Buddy and I'm 3 years old.\n"
     ]
    }
   ],
   "source": [
    "class Dog:\n",
    "    def __init__(self, name, age):\n",
    "        self.name = name\n",
    "        self.age = age\n",
    "    \n",
    "    def bark(self):\n",
    "        print(\"Woof!\")\n",
    "    \n",
    "    def introduce(self):\n",
    "        print(f\"My name is {self.name} and I'm {self.age} years old.\")\n",
    "my_dog = Dog(\"Buddy\", 3)\n",
    "print(my_dog.name)  \n",
    "print(my_dog.age)  \n",
    "\n",
    "my_dog.bark()  \n",
    "\n",
    "my_dog.introduce() "
   ]
  },
  {
   "cell_type": "code",
   "execution_count": 8,
   "id": "241f13f6",
   "metadata": {},
   "outputs": [
    {
     "name": "stdout",
     "output_type": "stream",
     "text": [
      "Sachin\n",
      "The roll number of Sachin is 1\n",
      "Congratulations !!!, succsefully  you got some information about Sachin\n"
     ]
    }
   ],
   "source": [
    "class student:\n",
    "    def __init__(self, fname, lname, roll):\n",
    "        self.fname = fname\n",
    "        self.lname = lname\n",
    "        self.roll_num = roll\n",
    "    \n",
    "    def get_roll(self):  # Renamed the method to get_roll\n",
    "        print(f\"The roll number of {self.fname} is {self.roll_num}\")\n",
    "    \n",
    "    def msg(self):\n",
    "        print(f\"Congratulations !!!, succsefully  you got some information about {self.fname}\")\n",
    "        \n",
    "admin = student(\"Sachin\", \"Rathore\", 1)\n",
    "print(admin.fname)  # Output: Sachin\n",
    "admin.get_roll()  # Output: The roll number of Sachin is 1\n",
    "admin.msg()\n"
   ]
  },
  {
   "cell_type": "code",
   "execution_count": null,
   "id": "7155e2db",
   "metadata": {},
   "outputs": [],
   "source": []
  }
 ],
 "metadata": {
  "kernelspec": {
   "display_name": "Python 3 (ipykernel)",
   "language": "python",
   "name": "python3"
  },
  "language_info": {
   "codemirror_mode": {
    "name": "ipython",
    "version": 3
   },
   "file_extension": ".py",
   "mimetype": "text/x-python",
   "name": "python",
   "nbconvert_exporter": "python",
   "pygments_lexer": "ipython3",
   "version": "3.10.6"
  }
 },
 "nbformat": 4,
 "nbformat_minor": 5
}
