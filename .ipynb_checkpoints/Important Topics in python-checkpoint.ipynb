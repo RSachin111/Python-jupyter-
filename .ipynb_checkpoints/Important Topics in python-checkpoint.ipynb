{
 "cells": [
  {
   "cell_type": "code",
   "execution_count": null,
   "id": "57be59a9",
   "metadata": {},
   "outputs": [],
   "source": [
    "Certainly! Python is a rich programming language with a vast standard library \n",
    "and many built-in functions and methods that make it powerful and versatile.\n",
    "Here are some important built-in functions and methods in Python:\n",
    "\n",
    "Built-in Functions:\n",
    "\n",
    "    print(): Used for printing output to the console.\n",
    "    input(): Reads user input from the console.\n",
    "    len(): Returns the length of an iterable (e.g., a list, string, or dictionary).\n",
    "    type(): Returns the type of an object.\n",
    "    int(), float(), str(), list(), dict(), set(), tuple(): Type conversion functions.\n",
    "    range(): Generates a sequence of numbers.\n",
    "    sum(): Computes the sum of elements in an iterable.\n",
    "    max() and min(): Returns the maximum and minimum elements from an iterable.\n",
    "    sorted(): Sorts an iterable.\n",
    "    abs(): Returns the absolute value of a number.\n",
    "    round(): Rounds a floating-point number to a specified number of decimal places.\n",
    "    enumerate(): Returns an iterator that generates pairs of indices and values from an iterable.\n",
    "    zip(): Combines multiple iterables element-wise.\n",
    "    map() and filter(): Functional programming functions for mapping and filtering elements of an iterable.\n",
    "    open(): Opens a file for reading or writing.\n",
    "    sum(): Computes the sum of elements in an iterable.\n",
    "    any() and all(): Check if any or all elements of an iterable are true.\n",
    "    help(): Displays documentation for objects, functions, or modules.\n",
    "    dir(): Lists the names of attributes and methods of an object.\n",
    "    eval(): Evaluates a string as Python code.\n",
    "\n",
    "Built-in Methods:\n",
    "\n",
    "   1. String Methods:\n",
    "        str.upper() and str.lower(): Converts a string to uppercase or lowercase.\n",
    "        str.strip(): Removes leading and trailing whitespace.\n",
    "        str.split(): Splits a string into a list of substrings.\n",
    "        str.join(): Joins a list of strings into a single string.\n",
    "        str.replace(): Replaces occurrences of a substring.\n",
    "        str.find() and str.index(): Searches for a substring and returns its position.\n",
    "\n",
    "  2. List Methods:\n",
    "        list.append(): Adds an element to the end of a list.\n",
    "        list.pop(): Removes and returns the last element of a list.\n",
    "        list.extend(): Extends a list with elements from another iterable.\n",
    "        list.insert(): Inserts an element at a specified position.\n",
    "        list.remove(): Removes the first occurrence of an element.\n",
    "        list.sort(): Sorts a list in-place.\n",
    "\n",
    "  3.  Dictionary Methods:\n",
    "        dict.keys(), dict.values(), and dict.items(): Return keys, values, and key-value pairs as iterables.\n",
    "        dict.get(): Gets the value for a key or a default value if the key is not found.\n",
    "        dict.pop(): Removes and returns the value for a key.\n",
    "        dict.update(): Updates a dictionary with key-value pairs from another dictionary.\n",
    "\n",
    "  4.  Set Methods:\n",
    "        set.add(): Adds an element to a set.\n",
    "        set.remove() and set.discard(): Remove an element from a set.\n",
    "        set.union(), set.intersection(), and set.difference(): Perform set operations.\n",
    "\n",
    "These are just a few of the many functions and methods available in Python.\n",
    "The Python standard library provides a wide range of tools and functionality \n",
    "for various programming tasks, making Python a versatile and powerful language for many applications."
   ]
  },
  {
   "cell_type": "code",
   "execution_count": 1,
   "id": "15ebb604",
   "metadata": {},
   "outputs": [
    {
     "name": "stdout",
     "output_type": "stream",
     "text": [
      "<class 'list'>\n",
      "<class 'array.array'>\n"
     ]
    },
    {
     "ename": "TypeError",
     "evalue": "'str' object cannot be interpreted as an integer",
     "output_type": "error",
     "traceback": [
      "\u001b[0;31m---------------------------------------------------------------------------\u001b[0m",
      "\u001b[0;31mTypeError\u001b[0m                                 Traceback (most recent call last)",
      "Cell \u001b[0;32mIn[1], line 11\u001b[0m\n\u001b[1;32m      9\u001b[0m arr \u001b[38;5;241m=\u001b[39m array(\u001b[38;5;124m'\u001b[39m\u001b[38;5;124mi\u001b[39m\u001b[38;5;124m'\u001b[39m, [\u001b[38;5;241m1\u001b[39m, \u001b[38;5;241m3\u001b[39m, \u001b[38;5;241m3\u001b[39m, \u001b[38;5;241m4\u001b[39m, \u001b[38;5;241m5\u001b[39m])\n\u001b[1;32m     10\u001b[0m \u001b[38;5;28mprint\u001b[39m(\u001b[38;5;28mtype\u001b[39m(arr)) \u001b[38;5;66;03m#here it will show arr becuase we define as array and it's type i \u001b[39;00m\n\u001b[0;32m---> 11\u001b[0m arr2\u001b[38;5;241m=\u001b[39m \u001b[43marray\u001b[49m\u001b[43m(\u001b[49m\u001b[38;5;124;43m'\u001b[39;49m\u001b[38;5;124;43mi\u001b[39;49m\u001b[38;5;124;43m'\u001b[39;49m\u001b[43m,\u001b[49m\u001b[43m[\u001b[49m\u001b[38;5;241;43m1\u001b[39;49m\u001b[43m,\u001b[49m\u001b[38;5;241;43m2\u001b[39;49m\u001b[43m,\u001b[49m\u001b[38;5;241;43m3\u001b[39;49m\u001b[43m,\u001b[49m\u001b[38;5;241;43m4\u001b[39;49m\u001b[43m,\u001b[49m\u001b[38;5;124;43m\"\u001b[39;49m\u001b[38;5;124;43msachin\u001b[39;49m\u001b[38;5;124;43m\"\u001b[39;49m\u001b[43m]\u001b[49m\u001b[43m)\u001b[49m \u001b[38;5;66;03m#it will give an error \u001b[39;00m\n",
      "\u001b[0;31mTypeError\u001b[0m: 'str' object cannot be interpreted as an integer"
     ]
    }
   ],
   "source": [
    "# Array implemantation in python \n",
    "# Here are some common type codes used in the array module:\n",
    "\n",
    "#     'i': Signed integer (e.g., 32-bit integer)\n",
    "#     'I': Unsigned integer (e.g., 32-bit unsigned integer)\n",
    "#     'f': Single-precision floating-point number (float)\n",
    "#     'd': Double-precision floating-point number (double)\n",
    "#     'l': Signed long integer (e.g., 64-bit integer)\n",
    "#     'L': Unsigned long integer (e.g., 64-bit unsigned integer)\n",
    "#     'b': Signed byte\n",
    "#     'B': Unsigned byte\n",
    "#     'h': Signed short integer\n",
    "#     'H': Unsigned short integer\n",
    "#     and more...\n",
    "\n",
    "from array import array\n",
    "arr=[1,3,3,4,5,\"Sachin\"]\n",
    "print(type(arr)) #here it will show list because we didn't define array and its type \n",
    "\n",
    "\n",
    "\n",
    "arr = array('i', [1, 3, 3, 4, 5])\n",
    "print(type(arr)) #here it will show arr becuase we define as array and it's type i \n",
    "arr2= array('i',[1,2,3,4,\"sachin\"]) #it will give an error "
   ]
  },
  {
   "cell_type": "code",
   "execution_count": 1,
   "id": "bd23a014",
   "metadata": {},
   "outputs": [
    {
     "name": "stdout",
     "output_type": "stream",
     "text": [
      "Enter Expression : 50/2\n",
      "25.0\n"
     ]
    }
   ],
   "source": [
    "# Calculator Using eval function\n",
    "\n",
    "print(eval(input(\"Enter Expression : \")))"
   ]
  },
  {
   "cell_type": "code",
   "execution_count": 8,
   "id": "db8e32c1",
   "metadata": {},
   "outputs": [
    {
     "name": "stdout",
     "output_type": "stream",
     "text": [
      "1000\n",
      "1.2\n",
      "500.59989756756\n"
     ]
    }
   ],
   "source": [
    "#absolute value of a number \n",
    "a =1000\n",
    "print(abs(a))\n",
    "\n",
    "b=1.20\n",
    "print(abs(b))\n",
    "c = 500.599897567560000\n",
    "print(abs(c))"
   ]
  },
  {
   "cell_type": "code",
   "execution_count": null,
   "id": "2ada402e",
   "metadata": {},
   "outputs": [],
   "source": []
  }
 ],
 "metadata": {
  "kernelspec": {
   "display_name": "Python 3 (ipykernel)",
   "language": "python",
   "name": "python3"
  },
  "language_info": {
   "codemirror_mode": {
    "name": "ipython",
    "version": 3
   },
   "file_extension": ".py",
   "mimetype": "text/x-python",
   "name": "python",
   "nbconvert_exporter": "python",
   "pygments_lexer": "ipython3",
   "version": "3.10.12"
  }
 },
 "nbformat": 4,
 "nbformat_minor": 5
}
