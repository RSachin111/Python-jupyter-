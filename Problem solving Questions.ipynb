{
 "cells": [
  {
   "cell_type": "code",
   "execution_count": 2,
   "id": "503f9860",
   "metadata": {},
   "outputs": [
    {
     "name": "stdout",
     "output_type": "stream",
     "text": [
      "Enter first and second num separated by spaces1 1 1 1 5 5\\\n",
      "1 1 1 1 5 5\\\n",
      "<class 'str'>\n",
      "<class 'str'>\n",
      "1\n",
      "<class 'list'>\n"
     ]
    },
    {
     "ename": "ValueError",
     "evalue": "invalid literal for int() with base 10: '5\\\\'",
     "output_type": "error",
     "traceback": [
      "\u001b[0;31m---------------------------------------------------------------------------\u001b[0m",
      "\u001b[0;31mValueError\u001b[0m                                Traceback (most recent call last)",
      "Cell \u001b[0;32mIn[2], line 10\u001b[0m\n\u001b[1;32m      8\u001b[0m num1 \u001b[38;5;241m=\u001b[39m num1\u001b[38;5;241m.\u001b[39msplit()\n\u001b[1;32m      9\u001b[0m \u001b[38;5;28mprint\u001b[39m(\u001b[38;5;28mtype\u001b[39m(num1))\n\u001b[0;32m---> 10\u001b[0m num1 \u001b[38;5;241m=\u001b[39m [\u001b[38;5;28mint\u001b[39m(x) \u001b[38;5;28;01mfor\u001b[39;00m x \u001b[38;5;129;01min\u001b[39;00m num1]\n\u001b[1;32m     12\u001b[0m \u001b[38;5;28mprint\u001b[39m(num1)\n\u001b[1;32m     13\u001b[0m \u001b[38;5;28mprint\u001b[39m(\u001b[38;5;28mtype\u001b[39m(num1[\u001b[38;5;241m0\u001b[39m]))\n",
      "Cell \u001b[0;32mIn[2], line 10\u001b[0m, in \u001b[0;36m<listcomp>\u001b[0;34m(.0)\u001b[0m\n\u001b[1;32m      8\u001b[0m num1 \u001b[38;5;241m=\u001b[39m num1\u001b[38;5;241m.\u001b[39msplit()\n\u001b[1;32m      9\u001b[0m \u001b[38;5;28mprint\u001b[39m(\u001b[38;5;28mtype\u001b[39m(num1))\n\u001b[0;32m---> 10\u001b[0m num1 \u001b[38;5;241m=\u001b[39m [\u001b[38;5;28;43mint\u001b[39;49m\u001b[43m(\u001b[49m\u001b[43mx\u001b[49m\u001b[43m)\u001b[49m \u001b[38;5;28;01mfor\u001b[39;00m x \u001b[38;5;129;01min\u001b[39;00m num1]\n\u001b[1;32m     12\u001b[0m \u001b[38;5;28mprint\u001b[39m(num1)\n\u001b[1;32m     13\u001b[0m \u001b[38;5;28mprint\u001b[39m(\u001b[38;5;28mtype\u001b[39m(num1[\u001b[38;5;241m0\u001b[39m]))\n",
      "\u001b[0;31mValueError\u001b[0m: invalid literal for int() with base 10: '5\\\\'"
     ]
    }
   ],
   "source": [
    "# Problem 1: Write a Python program that takes two integers as input from the user and prints their sum.\n",
    "num1=input(\"Enter first and second num separated by spaces\")\n",
    "print(num1)\n",
    "# num1=list(num1)\n",
    "print(type(num1))\n",
    "print(type(num1[0]))\n",
    "print(num1[0])\n",
    "num1 = num1.split()\n",
    "print(type(num1))\n",
    "num1 = [int(x) for x in num1]\n",
    "\n",
    "print(num1)\n",
    "print(type(num1[0]))\n",
    "print(sum(num1))"
   ]
  },
  {
   "cell_type": "code",
   "execution_count": 10,
   "id": "c913cb69",
   "metadata": {},
   "outputs": [
    {
     "name": "stdout",
     "output_type": "stream",
     "text": [
      "Enter stringsachin\n",
      "nihcas\n"
     ]
    }
   ],
   "source": [
    "# Problem 2: Write a Python program that takes a string as input from the user \n",
    "# and prints the string in reverse order.\n",
    "string=input(\"Enter string\")\n",
    "print(string[::-1])"
   ]
  },
  {
   "cell_type": "code",
   "execution_count": 24,
   "id": "4f2312d7",
   "metadata": {},
   "outputs": [
    {
     "name": "stdout",
     "output_type": "stream",
     "text": [
      "Enter all the integers and separated by spaces5 1 2 1 2 1 2 1\n",
      "<class 'list'>\n",
      "<class 'int'>\n",
      "[2]\n",
      "2\n"
     ]
    }
   ],
   "source": [
    "# Problem 3: Write a Python program that takes a list of integers as input from the user and \n",
    "# prints the sum of all the even numbers in the list.\n",
    "\n",
    "list1=input(\"Enter all the integers and separated by spaces\")\n",
    "list1=list1.split()\n",
    "list1=[int(x) for x in list1]\n",
    "print(type(list1))\n",
    "print(type(list1[1]))\n",
    "list2=[]\n",
    "for i in list1:\n",
    "    if i %2 == 0:\n",
    "        list2.append(i)\n",
    "print(list2)\n",
    "print(sum(list2))"
   ]
  },
  {
   "cell_type": "code",
   "execution_count": 26,
   "id": "2bf05aa9",
   "metadata": {},
   "outputs": [
    {
     "name": "stdout",
     "output_type": "stream",
     "text": [
      "Input all the integers and separated by commos1 1 1 1 1 5 5 1 3 4 7\n",
      "<class 'list'>\n",
      "[1, 1, 1, 1, 1, 5, 5, 1, 3, 4, 7]\n",
      "[1, 5, 3, 4, 7]\n"
     ]
    }
   ],
   "source": [
    "# Problem 4: Write a Python function that takes a list of integers as input and \n",
    "# returns a new list that contains only the unique elements of the original list.\n",
    "\n",
    "list1=input(\"Input all the integers and separated by spaces\")\n",
    "# print(type(list1))\n",
    "list1 = list1.split()\n",
    "print(type(list1))\n",
    "list1 = [int(x) for x in list1]\n",
    "print(list1)\n",
    "list2=[]\n",
    "for i in list1:\n",
    "    if i not in list2:\n",
    "        list2.append(i)\n",
    "print(list2)\n",
    "# print(set(list1))"
   ]
  },
  {
   "cell_type": "code",
   "execution_count": 36,
   "id": "7054a85e",
   "metadata": {},
   "outputs": [
    {
     "name": "stdout",
     "output_type": "stream",
     "text": [
      "Enter a string sachin\n",
      "schn\n"
     ]
    }
   ],
   "source": [
    "# Problem 5: Write a Python function that takes a string as input and \n",
    "# returns a new string with all the vowels removed.\n",
    "\n",
    "string = input(\"Enter a string \")\n",
    "vowel=\"aeiouAEIOU\"\n",
    "new_string=\"\"\n",
    "for i in string:\n",
    "    if i in vowel:\n",
    "        continue\n",
    "    new_string +=i\n",
    "        \n",
    "print(new_string)\n",
    "        "
   ]
  },
  {
   "cell_type": "code",
   "execution_count": 45,
   "id": "616a69ac",
   "metadata": {},
   "outputs": [
    {
     "name": "stdout",
     "output_type": "stream",
     "text": [
      "Enter a string: sachin\n",
      "schn\n"
     ]
    }
   ],
   "source": [
    "#solution of problem 5 using function\n",
    "def remove_vowels(s):\n",
    "    new_string = \"\"\n",
    "    vowels = \"aeiouAEIOU\"\n",
    "    for i in s:\n",
    "        if i not in vowels:\n",
    "            new_string += i\n",
    "    return new_string\n",
    "\n",
    "string = input(\"Enter a string: \")\n",
    "object1 = remove_vowels(string)\n",
    "print(object1)"
   ]
  },
  {
   "cell_type": "code",
   "execution_count": 60,
   "id": "67a3b8d0",
   "metadata": {},
   "outputs": [
    {
     "name": "stdout",
     "output_type": "stream",
     "text": [
      "Enter a list of numbers separated by spaces: 1 1 1 1 2 2 3\n",
      "second largest number in list is 2\n"
     ]
    }
   ],
   "source": [
    "# Problem 6: Write a Python program to find the second largest number in a list of numbers.\n",
    "# You can assume that the list contains at least two numbers.\n",
    "\n",
    "input_str = input('Enter a list of numbers separated by spaces: ')\n",
    "\n",
    "# Convert input string to a list of integers\n",
    "num_list = [int(n) for n in input_str.split()]\n",
    "\n",
    "# Print the list\n",
    "# print(num_list)\n",
    "# num_list=num_list.sort() it wont work bxz you can not assign sort list in variale it will return none\n",
    "num_list.sort() #reverse =True for discending order\n",
    "num_list.pop()\n",
    "print(f\"second largest number in list is {num_list[-1]}\")\n",
    "        "
   ]
  },
  {
   "cell_type": "code",
   "execution_count": 61,
   "id": "fbd0fc51",
   "metadata": {},
   "outputs": [
    {
     "name": "stdout",
     "output_type": "stream",
     "text": [
      "Enter stringsachin singh rathore\n",
      "erohtar hgnis nihcas\n"
     ]
    }
   ],
   "source": [
    "# Problem 7: Write a Python program to reverse a string without using any built-in string methods or slicing.\n",
    "string=input(\"Enter string\")\n",
    "reverse_string=\"\"\n",
    "for i in range(len(string)-1,-1,-1):\n",
    "    reverse_string += string[i]\n",
    "print(reverse_string)"
   ]
  },
  {
   "cell_type": "code",
   "execution_count": 3,
   "id": "fdf15130",
   "metadata": {},
   "outputs": [
    {
     "name": "stdout",
     "output_type": "stream",
     "text": [
      "Enter Stringsachin singh rathore\n",
      "erohtar hgnis nihcas\n",
      "Enter number \n",
      "123456789\n",
      "987654321\n"
     ]
    }
   ],
   "source": [
    "# reverse a string and number using build in methods\n",
    "\n",
    "# for string \n",
    "string=input(\"Enter String\")\n",
    "reverse_string=string[::-1]\n",
    "print(reverse_string)\n",
    "\n",
    "\n",
    "# for number \n",
    "number=int(input(\"Enter number \\n\"))\n",
    "reverse_number=str(number)[::-1]\n",
    "print(int(reverse_number))\n"
   ]
  },
  {
   "cell_type": "code",
   "execution_count": 70,
   "id": "7b0b33c3",
   "metadata": {
    "scrolled": true
   },
   "outputs": [
    {
     "name": "stdout",
     "output_type": "stream",
     "text": [
      "Enter an integer: 12345\n",
      "54321\n"
     ]
    }
   ],
   "source": [
    "#   reverse a number without using build in methods\n",
    "string = int(input(\"Enter an integer: \"))\n",
    "temp = string\n",
    "reverse = 0\n",
    "\n",
    "while temp > 0:\n",
    "    remainder = temp % 10\n",
    "    reverse = (reverse * 10) + remainder\n",
    "    temp = temp // 10\n",
    "\n",
    "print(reverse)\n",
    " "
   ]
  },
  {
   "cell_type": "code",
   "execution_count": 9,
   "id": "12756885",
   "metadata": {},
   "outputs": [
    {
     "name": "stdout",
     "output_type": "stream",
     "text": [
      "Enter an integer1221\n",
      "This is a palindrome number\n",
      "Enter Stringsaas\n",
      "This is a palindrome string\n"
     ]
    }
   ],
   "source": [
    "# Problem 8:Write a Python program to check whether a string is a palindrome or not.\n",
    "#palindrome number and string \n",
    "num = int(input(\"Enter an integer\"))\n",
    "temp = num \n",
    "reverse=0\n",
    "while temp>0:\n",
    "    remainder = temp % 10\n",
    "    reverse = (reverse*10)+ remainder\n",
    "    temp//=10\n",
    "if num == reverse:\n",
    "    print(\"This is a palindrome number\")\n",
    "else:\n",
    "    print(\"no this is not a palindrome number\")\n",
    "    \n",
    "#palindrome string \n",
    "string=input(\"Enter String\")\n",
    "reverse_string=\"\"\n",
    "for i in range(len(string)-1,-1,-1):\n",
    "    reverse_string+=string[i]\n",
    "if string == reverse_string:\n",
    "    print(\"This is a palindrome string\")\n",
    "else:\n",
    "    print(\"this is not a palindrome string\")"
   ]
  },
  {
   "cell_type": "code",
   "execution_count": 19,
   "id": "27c5e986",
   "metadata": {},
   "outputs": [
    {
     "name": "stdout",
     "output_type": "stream",
     "text": [
      "{1: 3, 2: 2, 3: 4, 4: 1, 31: 1, 12: 1}\n"
     ]
    }
   ],
   "source": [
    "#Problem 9: Write a Python program to count the frequency of each element in a list.\n",
    "list1=[1,2,3,3,4,31,1,1,12,3,2,3]\n",
    "count_dict={}\n",
    "for i in list1:\n",
    "    if i in count_dict:\n",
    "        count_dict[i]+=1\n",
    "    else:\n",
    "        count_dict[i]=1\n",
    "# for i,count in count_dict.items():\n",
    "#     print(i,\":\",count)\n",
    "dict1 = {i: count for i, count in count_dict.items()}\n",
    "print(dict1)"
   ]
  },
  {
   "cell_type": "code",
   "execution_count": 16,
   "id": "c06926f9",
   "metadata": {},
   "outputs": [
    {
     "name": "stdout",
     "output_type": "stream",
     "text": [
      "1 : 3\n",
      "2 : 2\n",
      "3 : 4\n",
      "4 : 1\n",
      "31 : 1\n",
      "12 : 1\n",
      "{1: 3, 2: 2, 3: 4, 4: 1, 31: 1, 12: 1}\n"
     ]
    }
   ],
   "source": [
    "# same thing using get() method\n",
    "\n",
    "list1 = [1, 2, 3, 3, 4, 31, 1, 1, 12, 3, 2, 3]\n",
    "count_dict = {}\n",
    "for i in list1:\n",
    "    count_dict[i] = count_dict.get(i, 0) + 1\n",
    "print(count_dict)"
   ]
  },
  {
   "cell_type": "code",
   "execution_count": 27,
   "id": "79145aeb",
   "metadata": {},
   "outputs": [
    {
     "name": "stdout",
     "output_type": "stream",
     "text": [
      "the first non-repeating element is  4\n"
     ]
    }
   ],
   "source": [
    "# Problem 10: Write a Python program to find the first non-repeating element in a list.\n",
    "#     You can assume that the list contains at least one element and all elements are unique.\n",
    "list1 = [1, 2, 3, 3, 2, 1, 4]\n",
    "for i in list1:\n",
    "    if list1.count(i) == 1:\n",
    "        print(\"the first non-repeating element is \",i)\n",
    "        break\n"
   ]
  },
  {
   "cell_type": "code",
   "execution_count": 26,
   "id": "632ba63b",
   "metadata": {},
   "outputs": [
    {
     "name": "stdout",
     "output_type": "stream",
     "text": [
      "5\n"
     ]
    }
   ],
   "source": [
    "list1=[1,1,5,24,1,4,2,2,2]\n",
    "mydict={}\n",
    "for i in list1:\n",
    "    if i in mydict:\n",
    "        mydict[i]+=1\n",
    "    else:\n",
    "        mydict[i]=1\n",
    "for i in list1:\n",
    "    if mydict[i]==1:\n",
    "        print(i)\n",
    "        break"
   ]
  },
  {
   "cell_type": "code",
   "execution_count": 28,
   "id": "142b1233",
   "metadata": {},
   "outputs": [
    {
     "name": "stdout",
     "output_type": "stream",
     "text": [
      "[3, 5]\n"
     ]
    }
   ],
   "source": [
    "# Problem 12: Write a Python program to find the intersection of two lists.\n",
    "\n",
    "list1=[1,2,3,45,5]\n",
    "list2=[8,7,3,5,5]\n",
    "intersection_list=[]\n",
    "for i in list1:\n",
    "    if i in list2:\n",
    "        intersection_list.append(i)\n",
    "print(intersection_list)\n",
    "        \n",
    "        "
   ]
  },
  {
   "cell_type": "code",
   "execution_count": 1,
   "id": "37967382",
   "metadata": {
    "scrolled": true
   },
   "outputs": [
    {
     "name": "stdout",
     "output_type": "stream",
     "text": [
      "[1, 2, 3, 45, 5, 8, 7]\n"
     ]
    }
   ],
   "source": [
    "# Problem 13: Write a Python program to find the union of two lists.\n",
    "\n",
    "list1 = [1, 2, 3, 45, 5]\n",
    "list2 = [8, 7, 3, 5, 5]\n",
    "union_list = list(list1)  # create a new list object with elements of list1\n",
    "\n",
    "for i in list2:\n",
    "    if i not in union_list:\n",
    "        union_list.append(i)\n",
    "\n",
    "print(union_list)"
   ]
  },
  {
   "cell_type": "code",
   "execution_count": 36,
   "id": "e09cebdc",
   "metadata": {},
   "outputs": [
    {
     "name": "stdout",
     "output_type": "stream",
     "text": [
      "Enter integers separated by spaces 4 1\n",
      "<class 'str'>\n",
      "4 1\n",
      "<class 'list'>\n",
      "the maximum number in the list is 4\n",
      "The minimum number in the list is  1\n",
      "Maximum element: 20\n",
      "Minimum element: 3\n"
     ]
    }
   ],
   "source": [
    "# Problem 13: Write a Python program to find the maximum and minimum elements in a list.\n",
    "nums=input(\"Enter integers separated by spaces \") #string\n",
    "print(type(nums))\n",
    "# nums = list(nums) #it will take speaces also\n",
    "print(nums)\n",
    "nums = nums.split() #convert into a list using list method\n",
    "print(type(nums))\n",
    "list1=[int(x) for x in nums] #we just convert type of items in integer\n",
    "list1.sort()\n",
    "length=len(list1)\n",
    "print(\"the maximum number in the list is\",list1[length-1])\n",
    "print(\"The minimum number in the list is \",list1[0])\n",
    "\n",
    "#another way\n",
    "num_list = [10, 5, 8,10,20, 3, 15]\n",
    "max_num = num_list[0]\n",
    "min_num = num_list[0]\n",
    "\n",
    "for num in num_list:\n",
    "    if num > max_num:\n",
    "        max_num = num\n",
    "    if num < min_num:\n",
    "        min_num = num\n",
    "\n",
    "print(\"Maximum element:\", max_num)\n",
    "print(\"Minimum element:\", min_num)\n",
    "\n"
   ]
  },
  {
   "cell_type": "code",
   "execution_count": 29,
   "id": "3c4ad632",
   "metadata": {},
   "outputs": [
    {
     "name": "stdout",
     "output_type": "stream",
     "text": [
      "Enter integers separated by spaces: 1 55 15 2 5\n",
      "[1, 55, 15, 2, 5]\n"
     ]
    },
    {
     "ename": "TypeError",
     "evalue": "'int' object is not callable",
     "output_type": "error",
     "traceback": [
      "\u001b[0;31m---------------------------------------------------------------------------\u001b[0m",
      "\u001b[0;31mTypeError\u001b[0m                                 Traceback (most recent call last)",
      "Cell \u001b[0;32mIn[29], line 6\u001b[0m\n\u001b[1;32m      3\u001b[0m list1 \u001b[38;5;241m=\u001b[39m [\u001b[38;5;28mint\u001b[39m(x) \u001b[38;5;28;01mfor\u001b[39;00m x \u001b[38;5;129;01min\u001b[39;00m numbers\u001b[38;5;241m.\u001b[39msplit()]\n\u001b[1;32m      4\u001b[0m \u001b[38;5;28mprint\u001b[39m(list1)\n\u001b[0;32m----> 6\u001b[0m total \u001b[38;5;241m=\u001b[39m \u001b[38;5;28;43msum\u001b[39;49m\u001b[43m(\u001b[49m\u001b[43mlist1\u001b[49m\u001b[43m)\u001b[49m\n\u001b[1;32m      7\u001b[0m \u001b[38;5;28mprint\u001b[39m(\u001b[38;5;124m\"\u001b[39m\u001b[38;5;124mThe sum of the numbers is:\u001b[39m\u001b[38;5;124m\"\u001b[39m, total)\n",
      "\u001b[0;31mTypeError\u001b[0m: 'int' object is not callable"
     ]
    }
   ],
   "source": [
    "#Poblem 15: Write a Python program to find the sum of all the elements in a list.\n",
    "numbers =input(\"Enter integers and separated by spaces\")\n",
    "numbers=numbers.split()\n",
    "list1=[int(x) for x in numbers]\n",
    "print(list1)\n",
    "# print(type(list1[2]))\n",
    "total = sum(list1)\n",
    "print(total)"
   ]
  },
  {
   "cell_type": "code",
   "execution_count": 34,
   "id": "1c9bbcae",
   "metadata": {},
   "outputs": [
    {
     "name": "stdout",
     "output_type": "stream",
     "text": [
      "Enter number of the items in list2\n",
      "Enter number1\n",
      "Enter number5\n",
      "[1, 5]\n"
     ]
    },
    {
     "ename": "TypeError",
     "evalue": "'int' object is not callable",
     "output_type": "error",
     "traceback": [
      "\u001b[0;31m---------------------------------------------------------------------------\u001b[0m",
      "\u001b[0;31mTypeError\u001b[0m                                 Traceback (most recent call last)",
      "Cell \u001b[0;32mIn[34], line 8\u001b[0m\n\u001b[1;32m      6\u001b[0m     list1\u001b[38;5;241m.\u001b[39mappend(item)\n\u001b[1;32m      7\u001b[0m \u001b[38;5;28mprint\u001b[39m(list1)\n\u001b[0;32m----> 8\u001b[0m \u001b[38;5;28mprint\u001b[39m(\u001b[38;5;28;43msum\u001b[39;49m\u001b[43m(\u001b[49m\u001b[43mlist1\u001b[49m\u001b[43m)\u001b[49m)\n\u001b[1;32m      9\u001b[0m avg\u001b[38;5;241m=\u001b[39m\u001b[38;5;28msum\u001b[39m(list1)\u001b[38;5;241m/\u001b[39mnum_item\n\u001b[1;32m     10\u001b[0m \u001b[38;5;28mprint\u001b[39m(avg)\n",
      "\u001b[0;31mTypeError\u001b[0m: 'int' object is not callable"
     ]
    }
   ],
   "source": [
    "#Problem 16: Write a Python program to find the average of numbers in a list.\n",
    "num_item=int(input(\"Enter number of the items in list\"))\n",
    "list1=[]\n",
    "for i in range(num_item):\n",
    "    item=int(input(\"Enter number\"))\n",
    "    list1.append(item)\n",
    "print(list1)\n",
    "print(sum(list1))\n",
    "avg=sum(list1)/num_item\n",
    "print(avg)"
   ]
  },
  {
   "cell_type": "code",
   "execution_count": 1,
   "id": "73da7d64",
   "metadata": {},
   "outputs": [],
   "source": [
    "#Problem 18: Write a Python program to check if a list is sorted in ascending order.\n",
    "num_items=int(input(\"Enter number of items\"))\n",
    "list1=[]\n",
    "for i in range(num_items):\n",
    "    items=int(input(\"Enter integer\"))\n",
    "    list1.append(items)\n",
    "copy_list1=list(list1)\n",
    "print(list1)\n",
    "list1.sort()\n",
    "print(list1)\n",
    "print(copy_list1)\n",
    "if list1 == copy_list1:\n",
    "    print(\"list is sorted in ascending order\")\n",
    "else:\n",
    "    print(\"list is not sorted in ascending order\")"
   ]
  },
  {
   "cell_type": "code",
   "execution_count": 64,
   "id": "a69382e4",
   "metadata": {},
   "outputs": [
    {
     "name": "stdout",
     "output_type": "stream",
     "text": [
      "[1, 2, 3, 4, 5]\n"
     ]
    }
   ],
   "source": [
    "#intersection list also remove duplicate items\n",
    "list1 = [1, 2, 3, 4, 4, 4, 5]\n",
    "list2 = [1, 2, 3, 4, 6, 4, 5]\n",
    "list3 = []\n",
    "\n",
    "for i in list1: \n",
    "    if i in list2:\n",
    "        if i in list3:\n",
    "            continue\n",
    "        list3.append(i)\n",
    "\n",
    "print(list3)"
   ]
  },
  {
   "cell_type": "code",
   "execution_count": 65,
   "id": "db833347",
   "metadata": {},
   "outputs": [
    {
     "name": "stdout",
     "output_type": "stream",
     "text": [
      "[2, 9, 8, 7, 6]\n"
     ]
    }
   ],
   "source": [
    "#unique items from the both the list \n",
    "list1 = [1, 2, 3, 4, 9, 8, 5]\n",
    "list2 = [1, 7, 3, 4, 6, 4, 5]\n",
    "list3=[]\n",
    "for i in list1:\n",
    "         if i not in list2 and i not in list3:\n",
    "            list3.append(i)\n",
    "for j in list2:\n",
    "        if j not in list1 and j not in list3:\n",
    "            list3.append(j)\n",
    "\n",
    "print(list3)"
   ]
  },
  {
   "cell_type": "code",
   "execution_count": 4,
   "id": "51c6a01a",
   "metadata": {},
   "outputs": [
    {
     "name": "stdout",
     "output_type": "stream",
     "text": [
      "Enter an integer1\n",
      "Not a odd number \n"
     ]
    }
   ],
   "source": [
    "#problem 19 write a program to check a number in Even or Odd\n",
    "num = int(input(\"Enter an integer\"))\n",
    "if num%2 ==0:\n",
    "    print(\"This is even number \")\n",
    "else:\n",
    "    print(\"This is a odd number \")"
   ]
  },
  {
   "cell_type": "code",
   "execution_count": 1,
   "id": "4d73cb47",
   "metadata": {},
   "outputs": [
    {
     "name": "stdout",
     "output_type": "stream",
     "text": [
      "15 is not a prime number\n"
     ]
    }
   ],
   "source": [
    "num =15\n",
    "if num == 1:\n",
    "    print(num, \"is not a prime number\")\n",
    "elif num > 1:\n",
    "   # check for factors\n",
    "   for i in range(2,num):\n",
    "        if (num % i) == 0:\n",
    "            print(num,\"is not a prime number\")\n",
    "#            print(i,\"times\",num//i,\"is\",num)\n",
    "            break\n",
    "   else:\n",
    "        print(num,\"is a prime number\")\n"
   ]
  },
  {
   "cell_type": "code",
   "execution_count": 1,
   "id": "faf381c5",
   "metadata": {},
   "outputs": [
    {
     "name": "stdout",
     "output_type": "stream",
     "text": [
      "Enter number of terms 5\n",
      "fibonacci series is  [0, 1, 1, 2, 3]\n"
     ]
    }
   ],
   "source": [
    "#fibonacci series\n",
    "num =int(input(\"Enter number of terms \"))\n",
    "first,second=0,1\n",
    "total=0\n",
    "list1=[]\n",
    "if num<=1:\n",
    "    print(\"please enter a positive integer\")\n",
    "elif num ==1:\n",
    "    print(\"fibonacci series is \",first)\n",
    "else:\n",
    "    while total<num:\n",
    "        list1.append(first)\n",
    "        result =first + second\n",
    "        first =second\n",
    "        second = result\n",
    "        total+=1\n",
    "#         list1.append(first)\n",
    "print(\"fibonacci series is \",list1)\n"
   ]
  },
  {
   "cell_type": "code",
   "execution_count": 2,
   "id": "1928938f",
   "metadata": {},
   "outputs": [
    {
     "name": "stdout",
     "output_type": "stream",
     "text": [
      "Enter a number: 5\n",
      "Prime\n"
     ]
    }
   ],
   "source": [
    "#n number of integers from the users and return the sum of all \n",
    "def is_prime(n):\n",
    "    if n <= 1:\n",
    "        return False\n",
    "    for i in range(2,n):\n",
    "        if n % i == 0:\n",
    "            return False\n",
    "    return True\n",
    "\n",
    "num = int(input(\"Enter a number: \"))\n",
    "if is_prime(num):\n",
    "    print(\"Prime\")\n",
    "else:\n",
    "    print(\"Not prime\")"
   ]
  },
  {
   "cell_type": "code",
   "execution_count": null,
   "id": "8f65f4e1",
   "metadata": {},
   "outputs": [],
   "source": [
    "num =int(input(\"Enter an integer \"))\n",
    "if num < 2:\n",
    "    print(\"This is not a prime number\")\n",
    "elif num > 1:\n",
    "   # check for factors\n",
    "   for i in range(2,num):\n",
    "        if (num % i) == 0:\n",
    "            print(num,\"is not a prime number\")\n",
    "#            print(i,\"times\",num//i,\"is\",num)\n",
    "            break\n",
    "   else:\n",
    "        print(num,\"is a prime number\")"
   ]
  },
  {
   "cell_type": "code",
   "execution_count": 2,
   "id": "8a0fc0ca",
   "metadata": {},
   "outputs": [
    {
     "ename": "IndentationError",
     "evalue": "expected an indented block after 'for' statement on line 5 (1221010348.py, line 8)",
     "output_type": "error",
     "traceback": [
      "\u001b[0;36m  Cell \u001b[0;32mIn[2], line 8\u001b[0;36m\u001b[0m\n\u001b[0;31m    num = int(input(\"Enter number of the list\"))\u001b[0m\n\u001b[0m                                                ^\u001b[0m\n\u001b[0;31mIndentationError\u001b[0m\u001b[0;31m:\u001b[0m expected an indented block after 'for' statement on line 5\n"
     ]
    }
   ],
   "source": [
    "# take inputs of to two lists from the users and retuns the sum of all two lists\n",
    "list1 =[1,3,4,5,6,7,7]\n",
    "list2=[3,54,6,2,6]\n",
    "def total(n):\n",
    "    for i in range(0,n):\n",
    "        \n",
    "    \n",
    "num = int(input(\"Enter number of the list\"))\n"
   ]
  },
  {
   "cell_type": "code",
   "execution_count": 2,
   "id": "609a7e44",
   "metadata": {},
   "outputs": [],
   "source": [
    "#Factorial program \n",
    "num=int(input(\"Enter a number =\"))\n",
    "if num<0:\n",
    "    print(\"plese Enter a positive integer\")\n",
    "else:\n",
    "    factorial =1\n",
    "    for i in range(1,num+1):\n",
    "        factorial*=i\n",
    "print(f'The factorial of {num} is =',factorial)"
   ]
  },
  {
   "cell_type": "code",
   "execution_count": null,
   "id": "ea249acb",
   "metadata": {},
   "outputs": [
    {
     "name": "stdout",
     "output_type": "stream",
     "text": [
      "please enter three number seprated by space10 20 30\n",
      "The largest number is  30\n"
     ]
    }
   ],
   "source": [
    "#find largest among three numbers\n",
    "num=input(\"please enter three number seprated by space\")\n",
    "list1=[]\n",
    "list1=[int(x) for x in num.split()]\n",
    "first=list1[0]\n",
    "for i in list1:\n",
    "    if first <= i:\n",
    "        first=i\n",
    "print(\"The largest number is \",first)"
   ]
  },
  {
   "cell_type": "code",
   "execution_count": 1,
   "id": "87218e3b",
   "metadata": {},
   "outputs": [
    {
     "ename": "ValueError",
     "evalue": "invalid literal for int() with base 10: ''",
     "output_type": "error",
     "traceback": [
      "\u001b[0;31m---------------------------------------------------------------------------\u001b[0m",
      "\u001b[0;31mValueError\u001b[0m                                Traceback (most recent call last)",
      "Cell \u001b[0;32mIn[1], line 10\u001b[0m\n\u001b[1;32m      1\u001b[0m \u001b[39m# Problem: Write a Python program to find the sum of all the prime numbers within a given range.\u001b[39;00m\n\u001b[1;32m      2\u001b[0m \n\u001b[1;32m      3\u001b[0m \u001b[39m# A prime number is a natural number greater than 1 that has no positive divisors other than 1 and itself.\u001b[39;00m\n\u001b[0;32m   (...)\u001b[0m\n\u001b[1;32m      7\u001b[0m \u001b[39m#     The program should find all the prime numbers within the range from start to end, inclusive. \u001b[39;00m\n\u001b[1;32m      8\u001b[0m \u001b[39m#     It should calculate the sum of those prime numbers and output the result.\u001b[39;00m\n\u001b[0;32m---> 10\u001b[0m start \u001b[39m=\u001b[39m \u001b[39mint\u001b[39;49m(\u001b[39minput\u001b[39;49m(\u001b[39m\"\u001b[39;49m\u001b[39mEnter the starting number: \u001b[39;49m\u001b[39m\"\u001b[39;49m))\n\u001b[1;32m     11\u001b[0m end \u001b[39m=\u001b[39m \u001b[39mint\u001b[39m(\u001b[39minput\u001b[39m(\u001b[39m\"\u001b[39m\u001b[39mEnter the ending number: \u001b[39m\u001b[39m\"\u001b[39m))\n\u001b[1;32m     12\u001b[0m list1 \u001b[39m=\u001b[39m []\n",
      "\u001b[0;31mValueError\u001b[0m: invalid literal for int() with base 10: ''"
     ]
    }
   ],
   "source": [
    "# Problem: Write a Python program to find the sum of all the prime numbers within a given range.\n",
    "\n",
    "# A prime number is a natural number greater than 1 that has no positive divisors other than 1 and itself.\n",
    "# For example, 2, 3, 5, 7, 11 are all prime numbers.\n",
    "\n",
    "# Write a program that takes two numbers as input: start and end. \n",
    "#     The program should find all the prime numbers within the range from start to end, inclusive. \n",
    "#     It should calculate the sum of those prime numbers and output the result.\n",
    "\n",
    "start = int(input(\"Enter the starting number: \"))\n",
    "end = int(input(\"Enter the ending number: \"))\n",
    "list1 = []\n",
    "\n",
    "for num in range(start, end + 1):\n",
    "    is_prime = True\n",
    "    list1.append(num) \n",
    "\n",
    "    if num < 2:\n",
    "        is_prime = False\n",
    "    else:\n",
    "        for i in range(2, num):\n",
    "            if num % i == 0:\n",
    "                is_prime = False\n",
    "                break\n",
    "\n",
    "    if is_prime:\n",
    "        print(num, \"is a prime number\")\n",
    "    else:\n",
    "        print(num, \"is not a prime number\")\n",
    "\n",
    "if all(is_prime for is_prime in list1):\n",
    "    print(\"The list of prime numbers is\", list1)\n"
   ]
  },
  {
   "cell_type": "code",
   "execution_count": null,
   "id": "facb2741",
   "metadata": {},
   "outputs": [],
   "source": []
  }
 ],
 "metadata": {
  "kernelspec": {
   "display_name": "Python 3 (ipykernel)",
   "language": "python",
   "name": "python3"
  },
  "language_info": {
   "codemirror_mode": {
    "name": "ipython",
    "version": 3
   },
   "file_extension": ".py",
   "mimetype": "text/x-python",
   "name": "python",
   "nbconvert_exporter": "python",
   "pygments_lexer": "ipython3",
   "version": "3.10.6"
  }
 },
 "nbformat": 4,
 "nbformat_minor": 5
}
